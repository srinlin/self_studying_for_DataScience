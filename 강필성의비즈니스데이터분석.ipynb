{
  "nbformat": 4,
  "nbformat_minor": 0,
  "metadata": {
    "colab": {
      "provenance": []
    },
    "kernelspec": {
      "name": "python3",
      "display_name": "Python 3"
    },
    "language_info": {
      "name": "python"
    }
  },
  "cells": [
    {
      "cell_type": "markdown",
      "source": [
        "# 파이썬 기초와 데이터분석\n",
        "## 파이썬 기초\n",
        "### 1. 파이썬의 특징"
      ],
      "metadata": {
        "id": "_VOliE6IN_59"
      }
    },
    {
      "cell_type": "markdown",
      "source": [
        "### 2. 변수"
      ],
      "metadata": {
        "id": "z7sh-H7wTFau"
      }
    },
    {
      "cell_type": "markdown",
      "source": [
        "몫: //  \n",
        "나머지: %"
      ],
      "metadata": {
        "id": "go0I0Hd1TYvL"
      }
    },
    {
      "cell_type": "code",
      "source": [
        "# 할당연산\n",
        "#아래의 두 식은 같다 \n",
        "\n",
        "a = 1\n",
        "a = a + 1\n",
        "\n",
        "a = 1\n",
        "a += 1"
      ],
      "metadata": {
        "id": "1R97Fg9DTi-p"
      },
      "execution_count": null,
      "outputs": []
    },
    {
      "cell_type": "markdown",
      "source": [
        "### 3. 문자형"
      ],
      "metadata": {
        "id": "gdnN3hkrT-M-"
      }
    },
    {
      "cell_type": "code",
      "source": [
        "#슬라이스: 범위를 지정하여 원하는 부분만을 얻기\n",
        "#변수 a의 6~8번째 문자를 출력하기\n",
        "a = 'Hello World'\n",
        "print(a[5:8])\n",
        "\n",
        "#변수 a의 처음에서부터 뒤에서 -5번째 문자를 출력하기\n",
        "print(a[:-4])"
      ],
      "metadata": {
        "colab": {
          "base_uri": "https://localhost:8080/"
        },
        "id": "IqK9ibvuUA0i",
        "outputId": "0f31d7e5-130f-40a7-c256-0b8e655dea9d"
      },
      "execution_count": null,
      "outputs": [
        {
          "output_type": "stream",
          "name": "stdout",
          "text": [
            " Wo\n",
            "Hello W\n"
          ]
        }
      ]
    },
    {
      "cell_type": "code",
      "source": [
        "#문자형과 숫자형 섞어보기\n",
        "b = 1\n",
        "print('My number is {}' .format(b))"
      ],
      "metadata": {
        "colab": {
          "base_uri": "https://localhost:8080/"
        },
        "id": "vbFkB4JxU1dY",
        "outputId": "b808e7b5-90fb-4b2b-8571-f6286f2d3bbe"
      },
      "execution_count": null,
      "outputs": [
        {
          "output_type": "stream",
          "name": "stdout",
          "text": [
            "My number is 1\n"
          ]
        }
      ]
    },
    {
      "cell_type": "code",
      "source": [
        "#이름을 통한 값 넣기\n",
        "print('오늘은 {month}월 {day}일 입니다. {month}월은 가정의 달입니다.'.format(month = 5, day = 10))"
      ],
      "metadata": {
        "colab": {
          "base_uri": "https://localhost:8080/"
        },
        "id": "E4RyOgRlbPfN",
        "outputId": "bf9ee4cc-fce0-4260-f8b6-de84eff59178"
      },
      "execution_count": null,
      "outputs": [
        {
          "output_type": "stream",
          "name": "stdout",
          "text": [
            "오늘은 5월 10일 입니다. 5월은 가정의 달입니다.\n"
          ]
        }
      ]
    },
    {
      "cell_type": "code",
      "source": [
        "#'.'를 기준으로 분리하기\n",
        "a = \"I.am.a.boy\"\n",
        "a.split('.')"
      ],
      "metadata": {
        "colab": {
          "base_uri": "https://localhost:8080/"
        },
        "id": "tLK1hrjubjy2",
        "outputId": "38ea9373-8fbe-4203-cb17-7a71fd9c3150"
      },
      "execution_count": null,
      "outputs": [
        {
          "output_type": "execute_result",
          "data": {
            "text/plain": [
              "['I', 'am', 'a', 'boy']"
            ]
          },
          "metadata": {},
          "execution_count": 14
        }
      ]
    },
    {
      "cell_type": "markdown",
      "source": [
        "### 4. 리스트"
      ],
      "metadata": {
        "id": "g0_uP-f-VdHv"
      }
    },
    {
      "cell_type": "code",
      "source": [
        "a = [1,[2,3],[4,[5,6,7]]]"
      ],
      "metadata": {
        "id": "zR3yOELhhOXg"
      },
      "execution_count": 1,
      "outputs": []
    },
    {
      "cell_type": "code",
      "source": [
        "a[0] = 10\n",
        "print(a)"
      ],
      "metadata": {
        "colab": {
          "base_uri": "https://localhost:8080/"
        },
        "id": "SBzvPZ3U4FfP",
        "outputId": "53c97257-b175-4caa-ae8f-6f110552198c"
      },
      "execution_count": 2,
      "outputs": [
        {
          "output_type": "stream",
          "name": "stdout",
          "text": [
            "[10, [2, 3], [4, [5, 6, 7]]]\n"
          ]
        }
      ]
    },
    {
      "cell_type": "code",
      "source": [
        "a[2][1][1:] = [60, 70]"
      ],
      "metadata": {
        "id": "We9akalq4KsZ"
      },
      "execution_count": 3,
      "outputs": []
    },
    {
      "cell_type": "code",
      "source": [
        "print(a)"
      ],
      "metadata": {
        "colab": {
          "base_uri": "https://localhost:8080/"
        },
        "id": "3MI4bg7R4OoX",
        "outputId": "9c002e37-cfdc-4828-8f3d-8e054354c89a"
      },
      "execution_count": 4,
      "outputs": [
        {
          "output_type": "stream",
          "name": "stdout",
          "text": [
            "[10, [2, 3], [4, [5, 60, 70]]]\n"
          ]
        }
      ]
    },
    {
      "cell_type": "code",
      "source": [
        "a[2][1][1:] = 50\n",
        "print(a)"
      ],
      "metadata": {
        "colab": {
          "base_uri": "https://localhost:8080/",
          "height": 187
        },
        "id": "WgB1xSKD4Pv5",
        "outputId": "cbe9097a-4581-4eed-9216-e4ef2846c0b5"
      },
      "execution_count": 5,
      "outputs": [
        {
          "output_type": "error",
          "ename": "TypeError",
          "evalue": "ignored",
          "traceback": [
            "\u001b[0;31m---------------------------------------------------------------------------\u001b[0m",
            "\u001b[0;31mTypeError\u001b[0m                                 Traceback (most recent call last)",
            "\u001b[0;32m<ipython-input-5-82b92129e301>\u001b[0m in \u001b[0;36m<module>\u001b[0;34m\u001b[0m\n\u001b[0;32m----> 1\u001b[0;31m \u001b[0ma\u001b[0m\u001b[0;34m[\u001b[0m\u001b[0;36m2\u001b[0m\u001b[0;34m]\u001b[0m\u001b[0;34m[\u001b[0m\u001b[0;36m1\u001b[0m\u001b[0;34m]\u001b[0m\u001b[0;34m[\u001b[0m\u001b[0;36m1\u001b[0m\u001b[0;34m:\u001b[0m\u001b[0;34m]\u001b[0m \u001b[0;34m=\u001b[0m \u001b[0;36m50\u001b[0m\u001b[0;34m\u001b[0m\u001b[0;34m\u001b[0m\u001b[0m\n\u001b[0m\u001b[1;32m      2\u001b[0m \u001b[0mprint\u001b[0m\u001b[0;34m(\u001b[0m\u001b[0ma\u001b[0m\u001b[0;34m)\u001b[0m\u001b[0;34m\u001b[0m\u001b[0;34m\u001b[0m\u001b[0m\n",
            "\u001b[0;31mTypeError\u001b[0m: can only assign an iterable"
          ]
        }
      ]
    },
    {
      "cell_type": "code",
      "source": [
        "a[2][1][1:] = [50]\n",
        "print(a)"
      ],
      "metadata": {
        "colab": {
          "base_uri": "https://localhost:8080/"
        },
        "id": "vw4J1hc24ULd",
        "outputId": "c5553319-8d22-4b77-d862-9dfa91e4af0d"
      },
      "execution_count": 6,
      "outputs": [
        {
          "output_type": "stream",
          "name": "stdout",
          "text": [
            "[10, [2, 3], [4, [5, 50]]]\n"
          ]
        }
      ]
    },
    {
      "cell_type": "code",
      "source": [
        "#리스트 더하기\n",
        "a = [1, 2, 3]\n",
        "b = [4, 5, 6]\n",
        "print(a+b)"
      ],
      "metadata": {
        "colab": {
          "base_uri": "https://localhost:8080/"
        },
        "id": "ZAoGV75h4YzQ",
        "outputId": "ccc49724-903c-4cc4-e057-954e9b800ab7"
      },
      "execution_count": 7,
      "outputs": [
        {
          "output_type": "stream",
          "name": "stdout",
          "text": [
            "[1, 2, 3, 4, 5, 6]\n"
          ]
        }
      ]
    },
    {
      "cell_type": "code",
      "source": [
        "#append\n",
        "a = [1, 2, 3]\n",
        "a.append(4)\n",
        "print(a)"
      ],
      "metadata": {
        "colab": {
          "base_uri": "https://localhost:8080/"
        },
        "id": "A-ToNHEI4r6A",
        "outputId": "2ec4604f-6c4b-4601-9d46-af44c2df1aef"
      },
      "execution_count": 8,
      "outputs": [
        {
          "output_type": "stream",
          "name": "stdout",
          "text": [
            "[1, 2, 3, 4]\n"
          ]
        }
      ]
    },
    {
      "cell_type": "code",
      "source": [
        "#pop\n",
        "a = [1, 2, 3]\n",
        "a.pop(0)#해당인덱스 삭제\n",
        "print(a)"
      ],
      "metadata": {
        "colab": {
          "base_uri": "https://localhost:8080/"
        },
        "id": "DHeeI0Wp4zoS",
        "outputId": "14149336-f030-4f4b-cb14-a30b7a994a96"
      },
      "execution_count": 10,
      "outputs": [
        {
          "output_type": "stream",
          "name": "stdout",
          "text": [
            "[2, 3]\n"
          ]
        }
      ]
    },
    {
      "cell_type": "code",
      "source": [
        "a = [1, 2, 3]\n",
        "a.pop()#맨 뒤꺼 없앰\n",
        "print(a)"
      ],
      "metadata": {
        "colab": {
          "base_uri": "https://localhost:8080/"
        },
        "id": "yEvEShMr46lP",
        "outputId": "fcfb6722-0cfd-459e-e17b-5b43900e5e40"
      },
      "execution_count": 11,
      "outputs": [
        {
          "output_type": "stream",
          "name": "stdout",
          "text": [
            "[1, 2]\n"
          ]
        }
      ]
    },
    {
      "cell_type": "code",
      "source": [
        "print(a.index(1)) #1의 위치값을 반환"
      ],
      "metadata": {
        "colab": {
          "base_uri": "https://localhost:8080/"
        },
        "id": "m8ERkL2V5GtH",
        "outputId": "61e13ac7-0b9d-4448-a408-bf6fa7005d07"
      },
      "execution_count": 12,
      "outputs": [
        {
          "output_type": "stream",
          "name": "stdout",
          "text": [
            "0\n"
          ]
        }
      ]
    },
    {
      "cell_type": "markdown",
      "source": [
        "### 5. 튜플"
      ],
      "metadata": {
        "id": "oDxP2Jto5YDw"
      }
    },
    {
      "cell_type": "code",
      "source": [],
      "metadata": {
        "id": "sDSmqjjX5ZHN"
      },
      "execution_count": null,
      "outputs": []
    }
  ]
}