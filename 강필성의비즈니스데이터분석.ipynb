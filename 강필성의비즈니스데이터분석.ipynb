{
  "nbformat": 4,
  "nbformat_minor": 0,
  "metadata": {
    "colab": {
      "provenance": []
    },
    "kernelspec": {
      "name": "python3",
      "display_name": "Python 3"
    },
    "language_info": {
      "name": "python"
    }
  },
  "cells": [
    {
      "cell_type": "markdown",
      "source": [
        "# 파이썬 기초와 데이터분석\n",
        "## 파이썬 기초\n",
        "### 1. 파이썬의 특징"
      ],
      "metadata": {
        "id": "_VOliE6IN_59"
      }
    },
    {
      "cell_type": "markdown",
      "source": [
        "### 2. 변수"
      ],
      "metadata": {
        "id": "z7sh-H7wTFau"
      }
    },
    {
      "cell_type": "markdown",
      "source": [
        "몫: //  \n",
        "나머지: %"
      ],
      "metadata": {
        "id": "go0I0Hd1TYvL"
      }
    },
    {
      "cell_type": "code",
      "source": [
        "# 할당연산\n",
        "#아래의 두 식은 같다 \n",
        "\n",
        "a = 1\n",
        "a = a + 1\n",
        "\n",
        "a = 1\n",
        "a += 1"
      ],
      "metadata": {
        "id": "1R97Fg9DTi-p"
      },
      "execution_count": 5,
      "outputs": []
    },
    {
      "cell_type": "markdown",
      "source": [
        "### 3. 문자형"
      ],
      "metadata": {
        "id": "gdnN3hkrT-M-"
      }
    },
    {
      "cell_type": "code",
      "source": [
        "#슬라이스: 범위를 지정하여 원하는 부분만을 얻기\n",
        "#변수 a의 6~8번째 문자를 출력하기\n",
        "a = 'Hello World'\n",
        "print(a[5:8])\n",
        "\n",
        "#변수 a의 처음에서부터 뒤에서 -5번째 문자를 출력하기\n",
        "print(a[:-4])"
      ],
      "metadata": {
        "colab": {
          "base_uri": "https://localhost:8080/"
        },
        "id": "IqK9ibvuUA0i",
        "outputId": "0f31d7e5-130f-40a7-c256-0b8e655dea9d"
      },
      "execution_count": 11,
      "outputs": [
        {
          "output_type": "stream",
          "name": "stdout",
          "text": [
            " Wo\n",
            "Hello W\n"
          ]
        }
      ]
    },
    {
      "cell_type": "code",
      "source": [
        "#문자형과 숫자형 섞어보기\n",
        "b = 1\n",
        "print('My number is {}' .format(b))"
      ],
      "metadata": {
        "colab": {
          "base_uri": "https://localhost:8080/"
        },
        "id": "vbFkB4JxU1dY",
        "outputId": "b808e7b5-90fb-4b2b-8571-f6286f2d3bbe"
      },
      "execution_count": 12,
      "outputs": [
        {
          "output_type": "stream",
          "name": "stdout",
          "text": [
            "My number is 1\n"
          ]
        }
      ]
    },
    {
      "cell_type": "code",
      "source": [
        "#이름을 통한 값 넣기\n",
        "print('오늘은 {month}월 {day}일 입니다. {month}월은 가정의 달입니다.'.format(month = 5, day = 10))"
      ],
      "metadata": {
        "colab": {
          "base_uri": "https://localhost:8080/"
        },
        "id": "E4RyOgRlbPfN",
        "outputId": "bf9ee4cc-fce0-4260-f8b6-de84eff59178"
      },
      "execution_count": 13,
      "outputs": [
        {
          "output_type": "stream",
          "name": "stdout",
          "text": [
            "오늘은 5월 10일 입니다. 5월은 가정의 달입니다.\n"
          ]
        }
      ]
    },
    {
      "cell_type": "code",
      "source": [
        "#'.'를 기준으로 분리하기\n",
        "a = \"I.am.a.boy\"\n",
        "a.split('.')"
      ],
      "metadata": {
        "colab": {
          "base_uri": "https://localhost:8080/"
        },
        "id": "tLK1hrjubjy2",
        "outputId": "38ea9373-8fbe-4203-cb17-7a71fd9c3150"
      },
      "execution_count": 14,
      "outputs": [
        {
          "output_type": "execute_result",
          "data": {
            "text/plain": [
              "['I', 'am', 'a', 'boy']"
            ]
          },
          "metadata": {},
          "execution_count": 14
        }
      ]
    }
  ]
}